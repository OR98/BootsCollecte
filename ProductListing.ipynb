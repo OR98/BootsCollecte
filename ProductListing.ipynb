{
 "cells": [
  {
   "cell_type": "code",
   "execution_count": 3,
   "id": "afe41123",
   "metadata": {},
   "outputs": [
    {
     "name": "stderr",
     "output_type": "stream",
     "text": [
      "C:\\Users\\admin\\AppData\\Roaming\\Python\\Python38\\site-packages\\pandas\\core\\computation\\expressions.py:20: UserWarning: Pandas requires version '2.7.3' or newer of 'numexpr' (version '2.7.1' currently installed).\n",
      "  from pandas.core.computation.check import NUMEXPR_INSTALLED\n"
     ]
    }
   ],
   "source": [
    "import os\n",
    "import time\n",
    "import json\n",
    "import pandas as pd\n",
    "from selenium import webdriver\n",
    "import undetected_chromedriver as uc\n",
    "from selenium.webdriver.chrome.options import Options\n",
    "from selenium.webdriver.chrome.service import Service\n",
    "from selenium.webdriver.support.ui import WebDriverWait\n",
    "from selenium.webdriver.support import expected_conditions as EC\n",
    "from selenium.webdriver.common.keys import Keys\n",
    "from selenium.webdriver.common.by import By\n",
    "from webdriver_manager.chrome import ChromeDriverManager\n",
    "from selenium.common.exceptions import TimeoutException \n",
    "from selenium.common.exceptions import NoSuchElementException\n",
    "import random"
   ]
  },
  {
   "cell_type": "code",
   "execution_count": 2,
   "id": "536f6946",
   "metadata": {},
   "outputs": [],
   "source": [
    "path = \"./chromedriver/chromedriver.exe\""
   ]
  },
  {
   "cell_type": "code",
   "execution_count": 4,
   "id": "fbd0006a",
   "metadata": {},
   "outputs": [],
   "source": [
    "def CreateDriver():\n",
    "    options = webdriver.ChromeOptions()\n",
    "    options.add_argument(r\"user-data-dir=C:\\Users\\admin\\AppData\\Local\\Google\\Chrome\\User Data\\Default\")\n",
    "    options.add_argument(\"--start-maximized\")\n",
    "    options.add_argument(\"--disable-extensions\")\n",
    "    options.add_argument(\"--disable-plugins-discovery\")\n",
    "    #Driver = webdriver.Chrome(executable_path=Path,options=options)\n",
    "    Driver = webdriver.Chrome(options=options)\n",
    "    return Driver"
   ]
  },
  {
   "cell_type": "code",
   "execution_count": 15,
   "id": "bc0ee96f",
   "metadata": {},
   "outputs": [],
   "source": [
    "driver = CreateDriver()\n",
    "driver.get(\"https://www.boots.com/holidays/suncare/\")\n",
    "time.sleep(5)\n",
    "driver.find_element(By.CSS_SELECTOR, '#onetrust-accept-btn-handler').click()"
   ]
  },
  {
   "cell_type": "code",
   "execution_count": 38,
   "id": "f4f14fa0",
   "metadata": {},
   "outputs": [
    {
     "name": "stdout",
     "output_type": "stream",
     "text": [
      "La Roche-Posay Anthelios UVMUNE 400 Invisible Fluid SPF50 50ML https://www.boots.com/festival/sunprotection/la-roche-posay-anthelios-uvmune-400-invisible-fluid-spf50-50ml-10306562 19.90 504 4.37\n",
      "\n",
      " ****************** \n",
      "\n",
      "Eucerin Sun Oil Control Face Protection Sun Cream for Oily & Blemish Prone Skin SPF 50+, 50ml https://www.boots.com/festival/sunprotection/la-roche-posay-anthelios-uvmune-400-invisible-fluid-spf50-50ml-10306562 16.00 153 4.56\n",
      "\n",
      " ****************** \n",
      "\n",
      "La Roche-Posay Anthelios Kids Invisible Spray SPF 50+ 200ml https://www.boots.com/festival/sunprotection/la-roche-posay-anthelios-uvmune-400-invisible-fluid-spf50-50ml-10306562 23.00 85 4.84\n",
      "\n",
      " ****************** \n",
      "\n",
      "La Roche-Posay Anthelios UVMUNE 400 Hydrating Cream SPF50 50ml https://www.boots.com/festival/sunprotection/la-roche-posay-anthelios-uvmune-400-invisible-fluid-spf50-50ml-10306562 20.90 178 4.58\n",
      "\n",
      " ****************** \n",
      "\n",
      "Soltan Kids Once 8hr Protect & Play Lotion SPF50+ 200ml https://www.boots.com/festival/sunprotection/la-roche-posay-anthelios-uvmune-400-invisible-fluid-spf50-50ml-10306562 10.00 53 4.21\n",
      "\n",
      " ****************** \n",
      "\n",
      "Piz Buin Protect and Intensify SPF30 https://www.boots.com/festival/sunprotection/la-roche-posay-anthelios-uvmune-400-invisible-fluid-spf50-50ml-10306562 8.00 65 4.66\n",
      "\n",
      " ****************** \n",
      "\n",
      "No7 Protect & Perfect Intense ADVANCED Facial Suncare SPF50+ 50ml https://www.boots.com/festival/sunprotection/la-roche-posay-anthelios-uvmune-400-invisible-fluid-spf50-50ml-10306562 14.95 59 4.59\n",
      "\n",
      " ****************** \n",
      "\n",
      "Soltan Kids Protect & Moisturise Suncare Roll On SPF50+ 50ml https://www.boots.com/festival/sunprotection/la-roche-posay-anthelios-uvmune-400-invisible-fluid-spf50-50ml-10306562 3.50 68 4.74\n",
      "\n",
      " ****************** \n",
      "\n",
      "Soltan Protect & Moisturise Lotion SPF30 400ml https://www.boots.com/festival/sunprotection/la-roche-posay-anthelios-uvmune-400-invisible-fluid-spf50-50ml-10306562 7.50 23 4.26\n",
      "\n",
      " ****************** \n",
      "\n",
      "Soltan Kids Protect & Moisturise Lotion SPF50+ 200ml https://www.boots.com/festival/sunprotection/la-roche-posay-anthelios-uvmune-400-invisible-fluid-spf50-50ml-10306562 3.89 39 4.46\n",
      "\n",
      " ****************** \n",
      "\n",
      "Soltan Kids Once 8hr Protect & Play Spray SPF50+ 200ml https://www.boots.com/festival/sunprotection/la-roche-posay-anthelios-uvmune-400-invisible-fluid-spf50-50ml-10306562 10.00 56 3.63\n",
      "\n",
      " ****************** \n",
      "\n",
      "NIVEA SUN Protect & Moisture Sun Cream Spray SPF50+ 200ml https://www.boots.com/festival/sunprotection/la-roche-posay-anthelios-uvmune-400-invisible-fluid-spf50-50ml-10306562 6.50 269 4.75\n",
      "\n",
      " ****************** \n",
      "\n",
      "La Roche-Posay Anthelios Sun Protection Face Mist 75ml https://www.boots.com/festival/sunprotection/la-roche-posay-anthelios-uvmune-400-invisible-fluid-spf50-50ml-10306562 17.00 116 4.28\n",
      "\n",
      " ****************** \n",
      "\n",
      "Soltan Kids Once 3hr Waterplay Spray SPF50+ 200ml https://www.boots.com/festival/sunprotection/la-roche-posay-anthelios-uvmune-400-invisible-fluid-spf50-50ml-10306562 10.00 70 3.54\n",
      "\n",
      " ****************** \n",
      "\n",
      "Soltan Clear and Cool Protect Suncare Mist SPF50 200ml https://www.boots.com/festival/sunprotection/la-roche-posay-anthelios-uvmune-400-invisible-fluid-spf50-50ml-10306562 7.00 66 4.3\n",
      "\n",
      " ****************** \n",
      "\n",
      "Eucerin Sun Allergy Protection Sun Cream for Face & Body SPF 50+, 150ml https://www.boots.com/festival/sunprotection/la-roche-posay-anthelios-uvmune-400-invisible-fluid-spf50-50ml-10306562 19.00 120 4.57\n",
      "\n",
      " ****************** \n",
      "\n",
      "Soltan Once Advanced 8hr Protect Spray SPF30 200ml https://www.boots.com/festival/sunprotection/la-roche-posay-anthelios-uvmune-400-invisible-fluid-spf50-50ml-10306562 10.00 127 3.34\n",
      "\n",
      " ****************** \n",
      "\n",
      "Piz Buin Aftersun Tan Intensifier 200ml https://www.boots.com/festival/sunprotection/la-roche-posay-anthelios-uvmune-400-invisible-fluid-spf50-50ml-10306562 8.00 73 4.82\n",
      "\n",
      " ****************** \n",
      "\n",
      "Eucerin Sun Pigment Control Anti Dark Spot Sun Cream for Face SPF 50+, 50ml https://www.boots.com/festival/sunprotection/la-roche-posay-anthelios-uvmune-400-invisible-fluid-spf50-50ml-10306562 16.99 106 4.72\n",
      "\n",
      " ****************** \n",
      "\n",
      "Soltan Clear & Cool Protect Suncare Mist SPF30 200ml https://www.boots.com/festival/sunprotection/la-roche-posay-anthelios-uvmune-400-invisible-fluid-spf50-50ml-10306562 7.00 66 4.11\n",
      "\n",
      " ****************** \n",
      "\n",
      "Garnier Ambre Solaire SPF 50+ Sensitive Advanced Dry Mist Sun Spray 150ml https://www.boots.com/festival/sunprotection/la-roche-posay-anthelios-uvmune-400-invisible-fluid-spf50-50ml-10306562 8.00 113 4.77\n",
      "\n",
      " ****************** \n",
      "\n",
      "Soltan Once Age Defence Advanced 8hr Protect Facial Suncare cream with Hyaluronic acid SPF50+ 50ml https://www.boots.com/festival/sunprotection/la-roche-posay-anthelios-uvmune-400-invisible-fluid-spf50-50ml-10306562 10.00 43 4.6\n",
      "\n",
      " ****************** \n",
      "\n",
      "Soltan Protect & Moisturise Lotion SPF30 200ml https://www.boots.com/festival/sunprotection/la-roche-posay-anthelios-uvmune-400-invisible-fluid-spf50-50ml-10306562 3.89 93 3.88\n",
      "\n",
      " ****************** \n",
      "\n",
      "Garnier Ambre Solaire SPF 30 Invisible Protect Mist Spray 200ml https://www.boots.com/festival/sunprotection/la-roche-posay-anthelios-uvmune-400-invisible-fluid-spf50-50ml-10306562 7.00 133 4.86\n",
      "\n",
      " ****************** \n",
      "\n"
     ]
    }
   ],
   "source": [
    "url = \"https://www.boots.com/holidays/suncare/\"\n",
    "driver = CreateDriver()\n",
    "driver.get(url)\n",
    "time.sleep(5)\n",
    "#driver.find_element(By.CSS_SELECTOR, '#onetrust-accept-btn-handler').click()\n",
    "#ProductsContainer = driver.find_element(By.CLASS_NAME,'product_listing_container')\n",
    "ProductsList = driver.find_elements(By.CLASS_NAME,\"estore_product_container\")\n",
    "for elt in ProductsList:\n",
    "    nom = (elt.find_element(By.CLASS_NAME,\"product_top_section\").text).split(\"\\n\")[0]\n",
    "    Nombre_avis = (elt.find_element(By.CLASS_NAME,\"product_top_section\").text.split(\"\\n\")[1])[1:-1]\n",
    "    #nom = elt.find_element(By.CLASS_NAME,\"product_top_section\").find_element(By.CLASS_NAME,\"product_name_link product_view_gtm\").text\n",
    "    #url = elt.find_element(By.CLASS_NAME,\"product_name_link product_view_gtm\").get_attribute(\"href\")\n",
    "    #url = elt.find_element(By.CSS_SELECTOR,\"#WC_CatalogEntryDBThumbnailDisplayJSPF_2638594_link_9b\").get_attribute(\"href\")\n",
    "    url = elt.find_element(By.XPATH,'//*[@id=\"WC_CatalogEntryDBThumbnailDisplayJSPF_2638594_link_9b\"]').get_attribute(\"href\")\n",
    "    prix = (elt.find_element(By.CLASS_NAME,\"product_price\").text)[1:]\n",
    "    #Nombre_avis = elt.find_element(By.CLASS_NAME,\"product_review_count\").text\n",
    "    Note_moyenne = elt.find_element(By.CSS_SELECTOR,\"span[class^='rating']\").get_attribute(\"title\").split(\" \")[0]\n",
    "    print(nom,url,prix,Nombre_avis,Note_moyenne)\n",
    "    #print(nom,url,Nombre_avis)\n",
    "    print(\"\\n ****************** \\n\")"
   ]
  },
  {
   "cell_type": "code",
   "execution_count": 36,
   "id": "f3ac51c6",
   "metadata": {},
   "outputs": [
    {
     "name": "stdout",
     "output_type": "stream",
     "text": [
      "100\n"
     ]
    }
   ],
   "source": []
  },
  {
   "cell_type": "code",
   "execution_count": 37,
   "id": "bfa691ef",
   "metadata": {},
   "outputs": [
    {
     "name": "stdout",
     "output_type": "stream",
     "text": [
      "3.89\n"
     ]
    }
   ],
   "source": []
  },
  {
   "cell_type": "code",
   "execution_count": null,
   "id": "6b5207ac",
   "metadata": {},
   "outputs": [],
   "source": []
  }
 ],
 "metadata": {
  "kernelspec": {
   "display_name": "Python 3 (ipykernel)",
   "language": "python",
   "name": "python3"
  },
  "language_info": {
   "codemirror_mode": {
    "name": "ipython",
    "version": 3
   },
   "file_extension": ".py",
   "mimetype": "text/x-python",
   "name": "python",
   "nbconvert_exporter": "python",
   "pygments_lexer": "ipython3",
   "version": "3.8.3"
  }
 },
 "nbformat": 4,
 "nbformat_minor": 5
}
