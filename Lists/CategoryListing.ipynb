{
 "cells": [
  {
   "cell_type": "code",
   "execution_count": null,
   "id": "f9c5c71f",
   "metadata": {},
   "outputs": [],
   "source": []
  },
  {
   "cell_type": "code",
   "execution_count": 2,
   "id": "8a974968",
   "metadata": {},
   "outputs": [],
   "source": [
    "Categories = [{\"Category \" : \"fragrance>aftershave>mens-aftershave\",\"url\" : \"https://www.boots.com/fragrance/aftershave/mens-aftershave\"},\n",
    "            {\"Category \" : \"health-pharmacy>medicines-treatments>painrelief\", \"url\" : \"https://www.boots.com/health-pharmacy/medicines-treatments/painrelief\"},\n",
    "            {\"Category \" : \"holidays>suncare\", \"url\" : \"https://www.boots.com/holidays/suncare/\"}\n",
    "            ]"
   ]
  },
  {
   "cell_type": "code",
   "execution_count": null,
   "id": "618bbf79",
   "metadata": {},
   "outputs": [],
   "source": []
  }
 ],
 "metadata": {
  "kernelspec": {
   "display_name": "Python 3 (ipykernel)",
   "language": "python",
   "name": "python3"
  },
  "language_info": {
   "codemirror_mode": {
    "name": "ipython",
    "version": 3
   },
   "file_extension": ".py",
   "mimetype": "text/x-python",
   "name": "python",
   "nbconvert_exporter": "python",
   "pygments_lexer": "ipython3",
   "version": "3.8.3"
  }
 },
 "nbformat": 4,
 "nbformat_minor": 5
}
