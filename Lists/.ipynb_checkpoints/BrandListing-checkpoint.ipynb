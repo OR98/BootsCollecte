{
 "cells": [
  {
   "cell_type": "code",
   "execution_count": 1,
   "id": "56a16ae5",
   "metadata": {},
   "outputs": [],
   "source": [
    "Brands = [{\"Brand\" : \"Bioderma\", \"url\" : \"https://www.boots.com/all-bioderma-products\"},\n",
    "            {\"Brand\" : \"The ordinary\", \"url\" : \"https://www.boots.com/the-ordinary-shop-all\"},\n",
    "            {\"Brand\" : \"The INKEY List\", \"url\" : \"https://www.boots.com/the-inkey-list-shop-all\"}\n",
    "            ]"
   ]
  },
  {
   "cell_type": "code",
   "execution_count": null,
   "id": "36ecc9dd",
   "metadata": {},
   "outputs": [],
   "source": []
  }
 ],
 "metadata": {
  "kernelspec": {
   "display_name": "Python 3 (ipykernel)",
   "language": "python",
   "name": "python3"
  },
  "language_info": {
   "codemirror_mode": {
    "name": "ipython",
    "version": 3
   },
   "file_extension": ".py",
   "mimetype": "text/x-python",
   "name": "python",
   "nbconvert_exporter": "python",
   "pygments_lexer": "ipython3",
   "version": "3.8.3"
  }
 },
 "nbformat": 4,
 "nbformat_minor": 5
}
